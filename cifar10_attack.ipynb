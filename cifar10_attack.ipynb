{
 "cells": [
  {
   "cell_type": "code",
   "execution_count": 1,
   "metadata": {},
   "outputs": [],
   "source": [
    "import os \n",
    "os.environ['http_proxy']=\"http://172.17.0.1:7890\"\n",
    "os.environ['https_proxy']=\"http://172.17.0.1:7890\"\n",
    "os.environ['all_proxy']=\"http://172.17.0.1:7890\""
   ]
  },
  {
   "cell_type": "code",
   "execution_count": 2,
   "metadata": {},
   "outputs": [],
   "source": [
    "import foolbox as fb\n",
    "import numpy as np\n",
    "import cv2\n",
    "import torch\n",
    "import torchvision\n",
    "from pytorchcv.model_provider import get_model as ptcv_get_model\n",
    "from PIL import Image\n",
    "from matplotlib import pyplot as plt\n",
    "from torchvision.transforms import transforms\n",
    "device = torch.device('cuda' if torch.cuda.is_available() else 'cpu')"
   ]
  },
  {
   "cell_type": "code",
   "execution_count": 13,
   "metadata": {},
   "outputs": [],
   "source": [
    "#import model\n",
    "model = ptcv_get_model('resnet56_cifar10',pretrained=True)"
   ]
  },
  {
   "cell_type": "code",
   "execution_count": 4,
   "metadata": {},
   "outputs": [],
   "source": [
    "#config transform\n",
    "cifar10_mean=(0.491, 0.482, 0.447)\n",
    "cifar10_std=(0.202, 0.199, 0.201)\n",
    "mean = torch.tensor(cifar10_mean).to(device).view(3, 1, 1)\n",
    "std = torch.tensor(cifar10_std).to(device).view(3, 1, 1)\n",
    "transform = transforms.Compose([transforms.ToTensor(),\n",
    "    transforms.Normalize(cifar10_mean,cifar10_std)\n",
    "    ])\n",
    "#import datasets\n",
    "cifar10_test_datasets = torchvision.datasets.CIFAR10(root = './cifar10',train=False,\n",
    "                                                     transform=transform)\n",
    "cifar10_train_datasets = torchvision.datasets.CIFAR10(root = './cifar10',train=True,\n",
    "                                                     transform=transform)\n",
    "trainLoader = torch.utils.data.DataLoader(cifar10_train_datasets, batch_size=8, \n",
    "                                          shuffle=True)\n",
    "testLoader = torch.utils.data.DataLoader(cifar10_test_datasets, batch_size=32, \n",
    "                                         shuffle=False)\n",
    "\n",
    "# Data classes\n",
    "classes = ('plane', 'car', 'bird', 'cat', 'deer', 'dog', 'frog', 'horse', 'ship', 'truck')\n"
   ]
  },
  {
   "cell_type": "code",
   "execution_count": 103,
   "metadata": {},
   "outputs": [
    {
     "data": {
      "text/plain": [
       "313"
      ]
     },
     "execution_count": 103,
     "metadata": {},
     "output_type": "execute_result"
    }
   ],
   "source": [
    "len(testLoader)"
   ]
  },
  {
   "cell_type": "code",
   "execution_count": 104,
   "metadata": {},
   "outputs": [],
   "source": [
    "test1_set,test2_set,test3_set,test4_set,test5_set,test6_set,test7_set,test8_set,test9_set,test10_set= \\\n",
    "torch.utils.data.random_split(cifar10_test_datasets, [1000,1000,1000,1000,1000,1000,1000,1000,1000,1000])"
   ]
  },
  {
   "cell_type": "code",
   "execution_count": 21,
   "metadata": {},
   "outputs": [],
   "source": [
    "torch.save(test1_set,\"test1Cifar.pkl\")\n",
    "torch.save(test2_set,\"test2Cifar.pkl\")\n",
    "torch.save(test3_set,\"test3Cifar.pkl\")\n",
    "torch.save(test4_set,\"test4Cifar.pkl\")\n",
    "torch.save(test5_set,\"test5Cifar.pkl\")\n",
    "torch.save(test6_set,\"test6Cifar.pkl\")\n",
    "torch.save(test7_set,\"test7Cifar.pkl\")\n",
    "torch.save(test8_set,\"test8Cifar.pkl\")\n",
    "torch.save(test9_set,\"test9Cifar.pkl\")\n",
    "torch.save(test10_set,\"test10Cifar.pkl\")"
   ]
  },
  {
   "cell_type": "code",
   "execution_count": 82,
   "metadata": {},
   "outputs": [],
   "source": [
    "# attack = fb.attacks.L2CarliniWagnerAttack() #L2-CW\n",
    "attack = fb.attacks.L2FastGradientAttack()    \n",
    "atkname = \"L2-FGSM\"\n",
    "# attack = fb.attacks.L2DeepFoolAttack()      #L2-DeepFool\n",
    "# attack = fb.attacks.LinfDeepFoolAttack()    #Linf-DeepFool\n"
   ]
  },
  {
   "cell_type": "code",
   "execution_count": 9,
   "metadata": {},
   "outputs": [],
   "source": [
    "model= model.eval() #changing evaluate "
   ]
  },
  {
   "cell_type": "code",
   "execution_count": 10,
   "metadata": {},
   "outputs": [],
   "source": [
    "def testAcc(model,dataloader):\n",
    "    total = 0\n",
    "    correct =0\n",
    "    model = model.to(device)\n",
    "    for data in dataloader:\n",
    "        images,labels = data\n",
    "        images,labels = images.to(device),labels.to(device)\n",
    "        outputs = model(images)\n",
    "        _,pred = torch.max(outputs,1)\n",
    "        total += labels.size(0)\n",
    "        correct += (pred == labels).sum().item()\n",
    "    return correct/total"
   ]
  },
  {
   "cell_type": "code",
   "execution_count": 11,
   "metadata": {},
   "outputs": [
    {
     "data": {
      "text/plain": [
       "0.9631"
      ]
     },
     "execution_count": 11,
     "metadata": {},
     "output_type": "execute_result"
    }
   ],
   "source": [
    "acc = testAcc(model,testLoader)\n",
    "acc"
   ]
  },
  {
   "cell_type": "code",
   "execution_count": 14,
   "metadata": {},
   "outputs": [
    {
     "name": "stdout",
     "output_type": "stream",
     "text": [
      "3.2811737060546875\n"
     ]
    }
   ],
   "source": [
    "param_size = 0\n",
    "for param in model.parameters():\n",
    "    param_size += param.nelement() * param.element_size()\n",
    "buffer_size = 0\n",
    "for buffer in model.buffers():\n",
    "    buffer_size += buffer.nelement() * buffer.element_size()\n",
    "\n",
    "size_all_mb = (param_size + buffer_size) / 1024**2\n",
    "print(size_all_mb)"
   ]
  },
  {
   "cell_type": "code",
   "execution_count": 8,
   "metadata": {},
   "outputs": [],
   "source": [
    "preprocessing = dict(mean=[0.491, 0.482, 0.447], std=[0.202, 0.199, 0.201], axis=-3)\n",
    "fmodel = fb.PyTorchModel(model,bounds=(0,1),preprocessing=preprocessing)"
   ]
  },
  {
   "cell_type": "code",
   "execution_count": 40,
   "metadata": {},
   "outputs": [],
   "source": [
    "def gen_adv(model,dataLoader,fmodel,eps,atkname):\n",
    "    tempStore = torch.empty([0, 3, 32, 32]).to(device)\n",
    "    tempLabel = torch.empty([0]).type(torch.IntTensor).to(device)\n",
    "    ben_acc = 0.0\n",
    "    adv_acc = 0.0\n",
    "    count = 0\n",
    "    for data in dataLoader:\n",
    "        images,labels = data\n",
    "        images,labels = images.to(device),labels.to(device)\n",
    "        for i,x in enumerate(images):\n",
    "            images[i]=(x-x.min()) / (x.max()-x.min())\n",
    "        \n",
    "        ben_acc += fb.accuracy(fmodel,images,labels)\n",
    "        count +=1\n",
    "#         raw_advs, clipped_advs, success = attack(fmodel, images, labels, epsilons=eps)\n",
    "        raw_advs, clipped_advs, success = attack(fmodel, images, labels,epsilons=eps)\n",
    "        adv_acc += fb.accuracy(fmodel,clipped_advs,labels)\n",
    "#         print(\"adv_acc=\",adv_acc/count)\n",
    "#         print(success)\n",
    "        index = success.type(torch.BoolTensor)\n",
    "        cp = raw_advs[index]\n",
    "        labs = labels[index]\n",
    "        if len(cp)>0:\n",
    "            outputs = model(cp)\n",
    "            _,pred = torch.max(outputs,1)\n",
    "            result = torch.ne(labs,pred)\n",
    "            print(result)\n",
    "            cp = cp[result]\n",
    "            labs = labs[result].type(torch.IntTensor).to(device)\n",
    "            tempStore = torch.cat((tempStore,cp),0)\n",
    "            tempLabel = torch.cat((tempLabel,labs),0)\n",
    "    filename_data = \"advCifarData-\"+str(eps)+\"-\"+atkname+\".pkl\"\n",
    "    filename_label = \"advCifarLabel-\"+str(eps)+\"-\"+atkname+\".pkl\"\n",
    "    torch.save(tempStore,filename_data)\n",
    "    torch.save(tempLabel,filename_label)\n",
    "    return ben_acc/count,adv_acc/count\n",
    "#     robust_accuracy = 1 - success.float().mean(axis=-1)\n",
    "#     for eps, acc in zip(epsilons, robust_accuracy):\n",
    "#         print(f\"  Linf norm ≤ {eps:<6}: {acc.item() * 100:4.1f} %\")\n",
    "#     print(f\"clean accuracy:  {clean_acc * 100:.1f} %\")\n",
    "#     for eps, advs_ in zip(epsilons, clipped_advs):\n",
    "#         acc2 = fb.accuracy(fmodel, advs_, labels)\n",
    "#         print(f\"  Linf norm ≤ {eps:<6}: {acc2 * 100:4.1f} %\")\n",
    "#         print(\"    perturbation sizes:\")\n",
    "#         pertu = (advs_ - images)\n",
    "#         if acc2 == 0:\n",
    "#             break"
   ]
  },
  {
   "cell_type": "code",
   "execution_count": 110,
   "metadata": {},
   "outputs": [
    {
     "name": "stdout",
     "output_type": "stream",
     "text": [
      "Attack method=L2-FGSM, epsilon=0.01, ben_acc=0.9607,adv_acc=0.9361\n",
      "Attack method=L2-FGSM, epsilon=0.1, ben_acc=0.9607,adv_acc=0.8047\n",
      "Attack method=L2-FGSM, epsilon=0.5, ben_acc=0.9607,adv_acc=0.7085\n",
      "Attack method=L2-FGSM, epsilon=1, ben_acc=0.9607,adv_acc=0.6793\n",
      "Attack method=L2-FGSM, epsilon=3, ben_acc=0.9607,adv_acc=0.5487\n",
      "Attack method=L2-FGSM, epsilon=5, ben_acc=0.9607,adv_acc=0.373\n",
      "Attack method=L2-FGSM, epsilon=8, ben_acc=0.9607,adv_acc=0.2233\n"
     ]
    }
   ],
   "source": [
    "epsilons=[0.01,0.1,0.5,1,3,5,8]\n",
    "for eps in epsilons:\n",
    "    ben_acc,adv_acc = gen_adv(model,testLoader,fmodel,eps,atkname)\n",
    "    print(f\"Attack method={atkname}, epsilon={eps}, ben_acc={ben_acc},adv_acc={adv_acc}\")"
   ]
  },
  {
   "cell_type": "code",
   "execution_count": 111,
   "metadata": {
    "scrolled": true
   },
   "outputs": [
    {
     "name": "stdout",
     "output_type": "stream",
     "text": [
      "Attack method=L2-DeepFool, epsilon=0.01, ben_acc=0.9607,adv_acc=0.9356\n",
      "Attack method=L2-DeepFool, epsilon=0.1, ben_acc=0.9607,adv_acc=0.7474\n",
      "Attack method=L2-DeepFool, epsilon=0.3, ben_acc=0.9607,adv_acc=0.4989\n",
      "Attack method=L2-DeepFool, epsilon=0.5, ben_acc=0.9607,adv_acc=0.3025\n",
      "Attack method=L2-DeepFool, epsilon=1, ben_acc=0.9607,adv_acc=0.0557\n",
      "Attack method=L2-DeepFool, epsilon=3, ben_acc=0.9607,adv_acc=0.0002\n",
      "Attack method=L2-DeepFool, epsilon=5, ben_acc=0.9607,adv_acc=0.0\n"
     ]
    }
   ],
   "source": [
    "# attack = fb.attacks.L2CarliniWagnerAttack() #L2-CW\n",
    "# attack = fb.attacks.L2FastGradientAttack()    \n",
    "\n",
    "attack = fb.attacks.L2DeepFoolAttack()      #L2-DeepFool\n",
    "# attack = fb.attacks.LinfDeepFoolAttack()    #Linf-DeepFool\n",
    "atkname = \"L2-DeepFool\"\n",
    "epsilons=[0.01,0.1,0.3,0.5,1,3,5]\n",
    "for eps in epsilons:\n",
    "    ben_acc,adv_acc = gen_adv(model,testLoader,fmodel,eps,atkname)\n",
    "    print(f\"Attack method={atkname}, epsilon={eps}, ben_acc={ben_acc},adv_acc={adv_acc}\")"
   ]
  },
  {
   "cell_type": "code",
   "execution_count": 112,
   "metadata": {},
   "outputs": [
    {
     "name": "stdout",
     "output_type": "stream",
     "text": [
      "Attack method=Linf-DeepFool, epsilon=0.01, ben_acc=0.9607,adv_acc=0.4805\n",
      "Attack method=Linf-DeepFool, epsilon=0.1, ben_acc=0.9607,adv_acc=0.0036\n",
      "Attack method=Linf-DeepFool, epsilon=0.3, ben_acc=0.9607,adv_acc=0.0001\n",
      "Attack method=Linf-DeepFool, epsilon=0.5, ben_acc=0.9607,adv_acc=0.0\n",
      "Attack method=Linf-DeepFool, epsilon=1, ben_acc=0.9607,adv_acc=0.0\n",
      "Attack method=Linf-DeepFool, epsilon=3, ben_acc=0.9607,adv_acc=0.0\n",
      "Attack method=Linf-DeepFool, epsilon=5, ben_acc=0.9607,adv_acc=0.0\n"
     ]
    }
   ],
   "source": [
    "# attack = fb.attacks.L2CarliniWagnerAttack() #L2-CW\n",
    "# attack = fb.attacks.L2FastGradientAttack()    \n",
    "\n",
    "# attack = fb.attacks.L2DeepFoolAttack()      #L2-DeepFool\n",
    "attack = fb.attacks.LinfDeepFoolAttack()    #Linf-DeepFool\n",
    "atkname = \"Linf-DeepFool\"\n",
    "epsilons=[0.01,0.1,0.3,0.5,1,3,5]\n",
    "for eps in epsilons:\n",
    "    ben_acc,adv_acc = gen_adv(model,testLoader,fmodel,eps,atkname)\n",
    "    print(f\"Attack method={atkname}, epsilon={eps}, ben_acc={ben_acc},adv_acc={adv_acc}\")"
   ]
  },
  {
   "cell_type": "code",
   "execution_count": 13,
   "metadata": {},
   "outputs": [],
   "source": [
    "#get variable name \n",
    "def namestr(obj, namespace):\n",
    "    return [name for name in namespace if namespace[name] is obj]\n",
    "\n",
    "def gen_adv_raw(model,dataLoader,fmodel,eps,atkname):\n",
    "    tempStore = torch.empty([0, 3, 32, 32]).to(device)\n",
    "    tempLabel = torch.empty([0]).type(torch.IntTensor).to(device)\n",
    "    dataname = namestr(dataLoader,globals())[0]\n",
    "    print(dataname)\n",
    "    ben_acc = 0.0\n",
    "    adv_acc = 0.0\n",
    "    count = 0\n",
    "    for data in dataLoader:\n",
    "        images,labels = data\n",
    "        images,labels = images.to(device),labels.to(device)\n",
    "        for i,x in enumerate(images):\n",
    "            images[i]=(x-x.min()) / (x.max()-x.min())\n",
    "        \n",
    "        ben_acc += fb.accuracy(fmodel,images,labels)\n",
    "        count +=1\n",
    "#         raw_advs, clipped_advs, success = attack(fmodel, images, labels, epsilons=eps)\n",
    "        raw_advs, clipped_advs, success = attack(fmodel, images, labels,epsilons=eps)\n",
    "        adv_acc += fb.accuracy(fmodel,clipped_advs,labels)\n",
    "        index = success.type(torch.BoolTensor)\n",
    "        pertu = raw_advs - images\n",
    "        return pertu\n",
    "#         cp = raw_advs[index]\n",
    "#         labs = labels[index]\n",
    "#         labs = labs.type(torch.IntTensor).to(device)\n",
    "#         tempStore = torch.cat((tempStore,cp),0)\n",
    "#         tempLabel = torch.cat((tempLabel,labs),0)\n",
    "#         print('.')\n",
    "#     filename_data = \"advCifarData-\"+dataname+'-'+str(eps)+\"-\"+atkname+\".pkl\"\n",
    "#     filename_label = \"advCifarLabel-\"+dataname+'-'+str(eps)+\"-\"+atkname+\".pkl\"\n",
    "#     torch.save(tempStore,filename_data)\n",
    "#     torch.save(tempLabel,filename_label)\n",
    "#     return ben_acc/count,adv_acc/count"
   ]
  },
  {
   "cell_type": "code",
   "execution_count": 91,
   "metadata": {},
   "outputs": [
    {
     "name": "stdout",
     "output_type": "stream",
     "text": [
      "testLoader\n"
     ]
    }
   ],
   "source": [
    "# attack = fb.attacks.L2CarliniWagnerAttack(binary_search_steps=7, steps=1000, stepsize=0.01, confidence=0, initial_const=0.001, abort_early=True) #L2-CW\n",
    "# attack = fb.attacks.L2FastGradientAttack()    \n",
    "\n",
    "attack = fb.attacks.L2DeepFoolAttack()      #L2-DeepFool\n",
    "# attack = fb.attacks.LinfDeepFoolAttack()    #Linf-DeepFool\n",
    "atkname = \"L2-CW\"\n",
    "eps = 3\n",
    "# epsilons=0.5\n",
    "# for eps in epsilons:\n",
    "pertu = gen_adv_raw(model,testLoader,fmodel,eps,atkname)\n",
    "# ben_acc,adv_acc = gen_adv_raw(model,testLoader,fmodel,eps,atkname)\n",
    "# print(f\"Attack method={atkname}, epsilon={eps}, ben_acc={ben_acc},adv_acc={adv_acc}\")"
   ]
  },
  {
   "cell_type": "code",
   "execution_count": 92,
   "metadata": {},
   "outputs": [
    {
     "name": "stdout",
     "output_type": "stream",
     "text": [
      "[[ -963.31834793    47.47956991  1048.20281267 ...  2685.35166979\n",
      "  -1196.13334537  -172.91381955]\n",
      " [ 1735.20594835 -1479.8283577   -360.81820726 ... -2678.38686705\n",
      "   -253.1722188    615.40603638]\n",
      " [  417.50669479 -1830.96155524  1124.84693527 ...  2179.21435833\n",
      "    112.78688908   269.21629906]\n",
      " ...\n",
      " [  254.44626808  -652.10461617  -156.34894371 ...   300.37164688\n",
      "   -150.26032925  -245.83637714]\n",
      " [ -176.38802528   718.88566017   632.35759735 ...  -138.97418976\n",
      "    142.583251     151.59845352]\n",
      " [ -501.09624863   181.35905266   -80.86562157 ...    92.57793427\n",
      "   -311.65480614   298.59244823]]\n"
     ]
    },
    {
     "data": {
      "text/plain": [
       "<matplotlib.colorbar.Colorbar at 0x7f18c2037a90>"
      ]
     },
     "execution_count": 92,
     "metadata": {},
     "output_type": "execute_result"
    },
    {
     "data": {
      "image/png": "[encoded data removed]",
      "text/plain": [
       "<Figure size 432x288 with 2 Axes>"
      ]
     },
     "metadata": {
      "needs_background": "light"
     },
     "output_type": "display_data"
    }
   ],
   "source": [
    "from PIL import Image\n",
    "from matplotlib import pyplot as plt\n",
    "new = pertu[0].cpu().numpy()\n",
    "new =np.transpose(new,[1,2,0])\n",
    "print(new[:,:,2]*100000)\n",
    "plt.xticks([])\n",
    "plt.yticks([])\n",
    "cmap = plt.get_cmap(\"Greens\",2)\n",
    "plt.imshow(np.sign(new[:,:,0]),cmap=cmap)\n",
    "plt.colorbar(ticks=[-1,1])"
   ]
  },
  {
   "cell_type": "code",
   "execution_count": 78,
   "metadata": {},
   "outputs": [
    {
     "data": {
      "text/plain": [
       "array([[-1.,  1.,  1., ..., -1.,  1.,  1.],\n",
       "       [-1.,  1.,  1., ..., -1.,  1., -1.],\n",
       "       [-1., -1., -1., ...,  1., -1., -1.],\n",
       "       ...,\n",
       "       [ 1.,  1., -1., ..., -1.,  1.,  1.],\n",
       "       [ 1., -1.,  1., ...,  1.,  1.,  1.],\n",
       "       [-1., -1.,  1., ..., -1., -1., -1.]], dtype=float32)"
      ]
     },
     "execution_count": 78,
     "metadata": {},
     "output_type": "execute_result"
    }
   ],
   "source": [
    "np.sign(new[:,:,0])"
   ]
  },
  {
   "cell_type": "code",
   "execution_count": 21,
   "metadata": {},
   "outputs": [
    {
     "data": {
      "text/plain": [
       "tensor([[-1.3323e-03,  5.7966e-04,  2.1867e-03,  ..., -2.9129e-04,\n",
       "          4.2409e-04,  3.8189e-04],\n",
       "        [-9.7728e-04,  1.2236e-03,  6.8736e-04,  ..., -2.8238e-04,\n",
       "          3.0750e-04, -1.9521e-04],\n",
       "        [-7.2837e-05, -1.8694e-03, -2.4877e-03,  ...,  1.5491e-04,\n",
       "         -1.6083e-03, -7.2140e-04],\n",
       "        ...,\n",
       "        [ 4.2818e-04,  9.4286e-04, -1.6293e-03,  ..., -9.8526e-05,\n",
       "          4.7684e-07,  8.9332e-05],\n",
       "        [ 3.5696e-04, -1.5343e-03,  1.4623e-03,  ...,  5.7370e-04,\n",
       "          1.6719e-05,  1.2817e-04],\n",
       "        [-4.1151e-04, -6.9505e-04,  4.9202e-04,  ..., -8.4750e-06,\n",
       "         -2.1458e-05, -1.2755e-04]], device='cuda:0')"
      ]
     },
     "execution_count": 21,
     "metadata": {},
     "output_type": "execute_result"
    }
   ],
   "source": [
    "pertu[0][0]"
   ]
  },
  {
   "cell_type": "code",
   "execution_count": 34,
   "metadata": {},
   "outputs": [],
   "source": [
    "adv_CW= torch.load(\"advCifarData-0.3-L2-CW.pkl\")"
   ]
  },
  {
   "cell_type": "code",
   "execution_count": 36,
   "metadata": {},
   "outputs": [
    {
     "data": {
      "text/plain": [
       "torch.Size([82, 3, 32, 32])"
      ]
     },
     "execution_count": 36,
     "metadata": {},
     "output_type": "execute_result"
    }
   ],
   "source": [
    "adv_CW.shape"
   ]
  },
  {
   "cell_type": "code",
   "execution_count": 208,
   "metadata": {},
   "outputs": [
    {
     "data": {
      "text/plain": [
       "array([[[0.5779042 , 0.58188975, 0.605803  , ..., 0.49420774,\n",
       "         0.45036674, 0.41051126],\n",
       "        [0.55399096, 0.5500054 , 0.58188975, ..., 0.49022222,\n",
       "         0.44638118, 0.42246792],\n",
       "        [0.5500054 , 0.5500054 , 0.5779042 , ..., 0.50217885,\n",
       "         0.46630892, 0.42645344],\n",
       "        ...,\n",
       "        [0.21920507, 0.11558086, 0.07173984, ..., 0.09963867,\n",
       "         0.        , 0.10760976],\n",
       "        [0.19130622, 0.14347966, 0.08768203, ..., 0.05181211,\n",
       "         0.06376874, 0.02789883],\n",
       "        [0.16340739, 0.1713785 , 0.12753747, ..., 0.04384102,\n",
       "         0.08369648, 0.03188437]],\n",
       "\n",
       "       [[0.4030604 , 0.39901477, 0.4192429 , ..., 0.3342847 ,\n",
       "         0.31810215, 0.2938284 ],\n",
       "        [0.4030604 , 0.3949691 , 0.41115162, ..., 0.3342847 ,\n",
       "         0.31810215, 0.3059653 ],\n",
       "        [0.3949691 , 0.3909235 , 0.39901477, ..., 0.34642157,\n",
       "         0.3342847 , 0.3100109 ],\n",
       "        ...,\n",
       "        [0.45160797, 0.35451284, 0.3059653 , ..., 0.34237596,\n",
       "         0.20887019, 0.2938284 ],\n",
       "        [0.4192429 , 0.36260408, 0.2938284 , ..., 0.28169152,\n",
       "         0.28169152, 0.20887019],\n",
       "        [0.38283226, 0.374741  , 0.3100109 , ..., 0.26146337,\n",
       "         0.2897828 , 0.22100708]],\n",
       "\n",
       "       [[0.18690896, 0.1788982 , 0.1949197 , ..., 0.1348391 ,\n",
       "         0.1348391 , 0.12282297],\n",
       "        [0.1949197 , 0.15086058, 0.17088746, ..., 0.11481218,\n",
       "         0.1188176 , 0.12682834],\n",
       "        [0.1788982 , 0.12282297, 0.1348391 , ..., 0.12682834,\n",
       "         0.12682834, 0.12282297],\n",
       "        ...,\n",
       "        [0.6995969 , 0.583441  , 0.5393819 , ..., 0.5754303 ,\n",
       "         0.42322603, 0.49932817],\n",
       "        [0.6635485 , 0.583441  , 0.51935506, ..., 0.5113443 ,\n",
       "         0.4953228 , 0.41922066],\n",
       "        [0.63150555, 0.5874464 , 0.51935506, ..., 0.48731205,\n",
       "         0.5073389 , 0.43123677]]], dtype=float32)"
      ]
     },
     "execution_count": 208,
     "metadata": {},
     "output_type": "execute_result"
    },
    {
     "data": {
      "image/png": "[encoded data removed]",
      "text/plain": [
       "<Figure size 432x288 with 1 Axes>"
      ]
     },
     "metadata": {
      "needs_background": "light"
     },
     "output_type": "display_data"
    }
   ],
   "source": [
    "im = images[0].cpu()\n",
    "show(im)"
   ]
  },
  {
   "cell_type": "code",
   "execution_count": 209,
   "metadata": {},
   "outputs": [
    {
     "data": {
      "text/plain": [
       "array([[[0.4386755 , 0.50605035, 0.46983054, ..., 0.7186191 ,\n",
       "         0.37106797, 0.4673666 ],\n",
       "        [0.42326224, 0.4342678 , 0.38337395, ..., 0.17982589,\n",
       "         0.34792072, 0.5142908 ],\n",
       "        [0.45151532, 0.43659484, 0.4740466 , ..., 0.7933994 ,\n",
       "         0.31743643, 0.46862596],\n",
       "        ...,\n",
       "        [0.4551291 , 0.41671914, 0.4715279 , ..., 0.49120513,\n",
       "         0.45063925, 0.44384292],\n",
       "        [0.4718359 , 0.4697484 , 0.4188169 , ..., 0.45429066,\n",
       "         0.42811823, 0.44531184],\n",
       "        [0.43729982, 0.47628465, 0.42983273, ..., 0.45484677,\n",
       "         0.4462076 , 0.44435793]],\n",
       "\n",
       "       [[0.44728556, 0.5152216 , 0.45360965, ..., 0.71228135,\n",
       "         0.36514086, 0.49043173],\n",
       "        [0.43649903, 0.45063925, 0.4108057 , ..., 0.06983875,\n",
       "         0.34073424, 0.62730306],\n",
       "        [0.47614095, 0.5036275 , 0.5266515 , ..., 0.76406497,\n",
       "         0.35146603, 0.41325596],\n",
       "        ...,\n",
       "        [0.44406876, 0.38535878, 0.49817944, ..., 0.47553864,\n",
       "         0.44586197, 0.44943467],\n",
       "        [0.45507434, 0.48210913, 0.43400773, ..., 0.45314425,\n",
       "         0.46443728, 0.45934513],\n",
       "        [0.41350234, 0.49864483, 0.4324883 , ..., 0.44932514,\n",
       "         0.45470473, 0.44161853]],\n",
       "\n",
       "       [[0.4428847 , 0.46796206, 0.44632053, ..., 0.62069154,\n",
       "         0.36351877, 0.40722275],\n",
       "        [0.42480904, 0.4286692 , 0.41486436, ..., 0.22552837,\n",
       "         0.41614765, 0.51629615],\n",
       "        [0.46728447, 0.48520616, 0.48629096, ..., 0.6276795 ,\n",
       "         0.42383716, 0.45697704],\n",
       "        ...,\n",
       "        [0.4410573 , 0.3975005 , 0.47839954, ..., 0.45720974,\n",
       "         0.4396063 , 0.4385523 ],\n",
       "        [0.4496263 , 0.45923564, 0.44801107, ..., 0.45444465,\n",
       "         0.4646289 , 0.45135105],\n",
       "        [0.4265201 , 0.47886494, 0.44116682, ..., 0.44946206,\n",
       "         0.45449942, 0.44309688]]], dtype=float32)"
      ]
     },
     "execution_count": 209,
     "metadata": {},
     "output_type": "execute_result"
    },
    {
     "data": {
      "image/png": "[encoded data removed]",
      "text/plain": [
       "<Figure size 432x288 with 1 Axes>"
      ]
     },
     "metadata": {
      "needs_background": "light"
     },
     "output_type": "display_data"
    }
   ],
   "source": [
    "im = pertu[0].cpu()\n",
    "show(im)"
   ]
  },
  {
   "cell_type": "code",
   "execution_count": 261,
   "metadata": {},
   "outputs": [],
   "source": [
    "\n",
    "img_adv1 = copy.deepcopy(advs_[0])"
   ]
  },
  {
   "cell_type": "code",
   "execution_count": 211,
   "metadata": {},
   "outputs": [],
   "source": [
    "def get_single_mask(num):\n",
    "    x_b = np.zeros((32,32))\n",
    "\n",
    "    for i in range(num):\n",
    "        x_axis = np.random.randint(1, 31)\n",
    "        y_axis = np.random.randint(1, 31)\n",
    "        case_radom = np.random.randint(1, 5)\n",
    "        \n",
    "        if (case_radom == 1) :\n",
    "            x_b[x_axis][y_axis] = 1\n",
    "        \n",
    "        elif (case_radom == 2) :\n",
    "            x_b[x_axis][y_axis+1] = 1\n",
    "        \n",
    "        elif (case_radom == 3) :\n",
    "            x_b[x_axis+1][y_axis] = 1\n",
    "        \n",
    "        elif (case_radom == 4) :\n",
    "            x_b[x_axis+1][y_axis+1] = 1\n",
    "    \n",
    "#     x_b_msk = np.img_as_ubyte(x_b)\n",
    "    return x_b"
   ]
  },
  {
   "cell_type": "code",
   "execution_count": 212,
   "metadata": {},
   "outputs": [],
   "source": [
    "try_times = 11\n",
    "def get_masks(num):\n",
    "\n",
    "    mask = np.expand_dims(get_single_mask(num), axis = 0)\n",
    "    for k in range(try_times-1):\n",
    "        mask2 = np.expand_dims(get_single_mask(num), axis = 0)\n",
    "        mask = np.concatenate((mask, mask2))\n",
    "    \n",
    "    # print(mask.shape) ->  (11, 224, 224)\n",
    "    return mask"
   ]
  },
  {
   "cell_type": "code",
   "execution_count": 272,
   "metadata": {},
   "outputs": [
    {
     "data": {
      "text/plain": [
       "(32, 32, 3)"
      ]
     },
     "execution_count": 272,
     "metadata": {},
     "output_type": "execute_result"
    }
   ],
   "source": [
    "# mask = get_masks(300)\n",
    "dst_adv.shape"
   ]
  },
  {
   "cell_type": "code",
   "execution_count": null,
   "metadata": {},
   "outputs": [],
   "source": []
  },
  {
   "cell_type": "code",
   "execution_count": 230,
   "metadata": {},
   "outputs": [],
   "source": [
    "src = img_adv1.cpu().detach().numpy()"
   ]
  },
  {
   "cell_type": "code",
   "execution_count": 231,
   "metadata": {},
   "outputs": [],
   "source": [
    "src = np.transpose(src,[2,1,0])"
   ]
  },
  {
   "cell_type": "code",
   "execution_count": 276,
   "metadata": {},
   "outputs": [
    {
     "data": {
      "text/plain": [
       "'cat'"
      ]
     },
     "execution_count": 276,
     "metadata": {},
     "output_type": "execute_result"
    }
   ],
   "source": [
    "classes[pred[0]]"
   ]
  },
  {
   "cell_type": "code",
   "execution_count": 144,
   "metadata": {},
   "outputs": [
    {
     "ename": "error",
     "evalue": "OpenCV(4.5.2) /tmp/pip-req-build-13uokl4r/opencv/modules/imgproc/src/color.simd_helpers.hpp:94: error: (-2:Unspecified error) in function 'cv::impl::{anonymous}::CvtHelper<VScn, VDcn, VDepth, sizePolicy>::CvtHelper(cv::InputArray, cv::OutputArray, int) [with VScn = cv::impl::{anonymous}::Set<1>; VDcn = cv::impl::{anonymous}::Set<3, 4>; VDepth = cv::impl::{anonymous}::Set<0, 2, 5>; cv::impl::{anonymous}::SizePolicy sizePolicy = cv::impl::<unnamed>::NONE; cv::InputArray = const cv::_InputArray&; cv::OutputArray = const cv::_OutputArray&]'\n> Unsupported depth of input image:\n>     'VDepth::contains(depth)'\n> where\n>     'depth' is 6 (CV_64F)\n",
     "output_type": "error",
     "traceback": [
      "\u001b[0;31m---------------------------------------------------------------------------\u001b[0m",
      "\u001b[0;31merror\u001b[0m                                     Traceback (most recent call last)",
      "\u001b[0;32m<ipython-input-144-7f9f9b6bf7ee>\u001b[0m in \u001b[0;36m<module>\u001b[0;34m\u001b[0m\n\u001b[0;32m----> 1\u001b[0;31m \u001b[0mrgb_img\u001b[0m \u001b[0;34m=\u001b[0m \u001b[0mcv2\u001b[0m\u001b[0;34m.\u001b[0m\u001b[0mcvtColor\u001b[0m\u001b[0;34m(\u001b[0m\u001b[0mnp\u001b[0m\u001b[0;34m.\u001b[0m\u001b[0mexpand_dims\u001b[0m\u001b[0;34m(\u001b[0m\u001b[0mmask\u001b[0m\u001b[0;34m[\u001b[0m\u001b[0;36m5\u001b[0m\u001b[0;34m]\u001b[0m\u001b[0;34m,\u001b[0m\u001b[0maxis\u001b[0m\u001b[0;34m=\u001b[0m\u001b[0;36m2\u001b[0m\u001b[0;34m)\u001b[0m\u001b[0;34m,\u001b[0m \u001b[0mcv2\u001b[0m\u001b[0;34m.\u001b[0m\u001b[0mCOLOR_BGR2RGB\u001b[0m\u001b[0;34m)\u001b[0m\u001b[0;34m\u001b[0m\u001b[0;34m\u001b[0m\u001b[0m\n\u001b[0m",
      "\u001b[0;31merror\u001b[0m: OpenCV(4.5.2) /tmp/pip-req-build-13uokl4r/opencv/modules/imgproc/src/color.simd_helpers.hpp:94: error: (-2:Unspecified error) in function 'cv::impl::{anonymous}::CvtHelper<VScn, VDcn, VDepth, sizePolicy>::CvtHelper(cv::InputArray, cv::OutputArray, int) [with VScn = cv::impl::{anonymous}::Set<1>; VDcn = cv::impl::{anonymous}::Set<3, 4>; VDepth = cv::impl::{anonymous}::Set<0, 2, 5>; cv::impl::{anonymous}::SizePolicy sizePolicy = cv::impl::<unnamed>::NONE; cv::InputArray = const cv::_InputArray&; cv::OutputArray = const cv::_OutputArray&]'\n> Unsupported depth of input image:\n>     'VDepth::contains(depth)'\n> where\n>     'depth' is 6 (CV_64F)\n"
     ]
    }
   ],
   "source": [
    "rgb_img = cv2.cvtColor(np.expand_dims(mask[5],axis=2), cv2.COLOR_BGR2RGB)"
   ]
  },
  {
   "cell_type": "code",
   "execution_count": 171,
   "metadata": {},
   "outputs": [],
   "source": [
    "new = np.expand_dims(mask[5],axis=2)"
   ]
  },
  {
   "cell_type": "code",
   "execution_count": 237,
   "metadata": {},
   "outputs": [
    {
     "data": {
      "text/plain": [
       "<matplotlib.image.AxesImage at 0x7f3fc22c7550>"
      ]
     },
     "execution_count": 237,
     "metadata": {},
     "output_type": "execute_result"
    },
    {
     "data": {
      "image/png": "[encoded data removed]",
      "text/plain": [
       "<Figure size 432x288 with 1 Axes>"
      ]
     },
     "metadata": {
      "needs_background": "light"
     },
     "output_type": "display_data"
    }
   ],
   "source": [
    "plt.imshow(src,cmap='Greys_r')"
   ]
  },
  {
   "cell_type": "code",
   "execution_count": 245,
   "metadata": {},
   "outputs": [
    {
     "data": {
      "text/plain": [
       "<matplotlib.image.AxesImage at 0x7f3fc22b07f0>"
      ]
     },
     "execution_count": 245,
     "metadata": {},
     "output_type": "execute_result"
    },
    {
     "data": {
      "image/png": "[encoded data removed]",
      "text/plain": [
       "<Figure size 432x288 with 1 Axes>"
      ]
     },
     "metadata": {
      "needs_background": "light"
     },
     "output_type": "display_data"
    }
   ],
   "source": [
    "plt.imshow(dst_adv,cmap='Greys_r')"
   ]
  },
  {
   "cell_type": "code",
   "execution_count": 242,
   "metadata": {},
   "outputs": [
    {
     "data": {
      "text/plain": [
       "array([[  0,   0,   0],\n",
       "       [  0,   0,   0],\n",
       "       [  0,   0,   0],\n",
       "       [  0,   0,   0],\n",
       "       [  0,   0,   0],\n",
       "       [  0,   0,   0],\n",
       "       [  0,   0,   0],\n",
       "       [ 39,  29,  22],\n",
       "       [  0,   0,   0],\n",
       "       [  0,   0,   0],\n",
       "       [  0,   0,   0],\n",
       "       [  0,   0,   0],\n",
       "       [  0,   0,   0],\n",
       "       [  0,   0,   0],\n",
       "       [  0,   0,   0],\n",
       "       [  0,   0,   0],\n",
       "       [  0,   0,   0],\n",
       "       [  0,   0,   0],\n",
       "       [  0,   0,   0],\n",
       "       [  0,   0,   0],\n",
       "       [  0,   0,   0],\n",
       "       [  0,   0,   0],\n",
       "       [248,   1,   3],\n",
       "       [  0,   0,   0],\n",
       "       [242, 243, 242],\n",
       "       [  0,   0,   0],\n",
       "       [  0,   0,   0],\n",
       "       [  0,   0,   0],\n",
       "       [  0,   0,   0],\n",
       "       [  0,   0,   0],\n",
       "       [  0,   0,   0],\n",
       "       [  0,   0,   0]], dtype=uint8)"
      ]
     },
     "execution_count": 242,
     "metadata": {},
     "output_type": "execute_result"
    }
   ],
   "source": []
  },
  {
   "cell_type": "code",
   "execution_count": 252,
   "metadata": {},
   "outputs": [
    {
     "data": {
      "text/plain": [
       "Sequential(\n",
       "  (init_block): ConvBlock(\n",
       "    (conv): Conv2d(3, 16, kernel_size=(3, 3), stride=(1, 1), padding=(1, 1), bias=False)\n",
       "    (bn): BatchNorm2d(16, eps=1e-05, momentum=0.1, affine=True, track_running_stats=True)\n",
       "    (activ): ReLU(inplace=True)\n",
       "  )\n",
       "  (stage1): Sequential(\n",
       "    (unit1): ResUnit(\n",
       "      (body): ResBlock(\n",
       "        (conv1): ConvBlock(\n",
       "          (conv): Conv2d(16, 16, kernel_size=(3, 3), stride=(1, 1), padding=(1, 1), bias=False)\n",
       "          (bn): BatchNorm2d(16, eps=1e-05, momentum=0.1, affine=True, track_running_stats=True)\n",
       "          (activ): ReLU(inplace=True)\n",
       "        )\n",
       "        (conv2): ConvBlock(\n",
       "          (conv): Conv2d(16, 16, kernel_size=(3, 3), stride=(1, 1), padding=(1, 1), bias=False)\n",
       "          (bn): BatchNorm2d(16, eps=1e-05, momentum=0.1, affine=True, track_running_stats=True)\n",
       "        )\n",
       "      )\n",
       "      (activ): ReLU(inplace=True)\n",
       "    )\n",
       "    (unit2): ResUnit(\n",
       "      (body): ResBlock(\n",
       "        (conv1): ConvBlock(\n",
       "          (conv): Conv2d(16, 16, kernel_size=(3, 3), stride=(1, 1), padding=(1, 1), bias=False)\n",
       "          (bn): BatchNorm2d(16, eps=1e-05, momentum=0.1, affine=True, track_running_stats=True)\n",
       "          (activ): ReLU(inplace=True)\n",
       "        )\n",
       "        (conv2): ConvBlock(\n",
       "          (conv): Conv2d(16, 16, kernel_size=(3, 3), stride=(1, 1), padding=(1, 1), bias=False)\n",
       "          (bn): BatchNorm2d(16, eps=1e-05, momentum=0.1, affine=True, track_running_stats=True)\n",
       "        )\n",
       "      )\n",
       "      (activ): ReLU(inplace=True)\n",
       "    )\n",
       "    (unit3): ResUnit(\n",
       "      (body): ResBlock(\n",
       "        (conv1): ConvBlock(\n",
       "          (conv): Conv2d(16, 16, kernel_size=(3, 3), stride=(1, 1), padding=(1, 1), bias=False)\n",
       "          (bn): BatchNorm2d(16, eps=1e-05, momentum=0.1, affine=True, track_running_stats=True)\n",
       "          (activ): ReLU(inplace=True)\n",
       "        )\n",
       "        (conv2): ConvBlock(\n",
       "          (conv): Conv2d(16, 16, kernel_size=(3, 3), stride=(1, 1), padding=(1, 1), bias=False)\n",
       "          (bn): BatchNorm2d(16, eps=1e-05, momentum=0.1, affine=True, track_running_stats=True)\n",
       "        )\n",
       "      )\n",
       "      (activ): ReLU(inplace=True)\n",
       "    )\n",
       "    (unit4): ResUnit(\n",
       "      (body): ResBlock(\n",
       "        (conv1): ConvBlock(\n",
       "          (conv): Conv2d(16, 16, kernel_size=(3, 3), stride=(1, 1), padding=(1, 1), bias=False)\n",
       "          (bn): BatchNorm2d(16, eps=1e-05, momentum=0.1, affine=True, track_running_stats=True)\n",
       "          (activ): ReLU(inplace=True)\n",
       "        )\n",
       "        (conv2): ConvBlock(\n",
       "          (conv): Conv2d(16, 16, kernel_size=(3, 3), stride=(1, 1), padding=(1, 1), bias=False)\n",
       "          (bn): BatchNorm2d(16, eps=1e-05, momentum=0.1, affine=True, track_running_stats=True)\n",
       "        )\n",
       "      )\n",
       "      (activ): ReLU(inplace=True)\n",
       "    )\n",
       "    (unit5): ResUnit(\n",
       "      (body): ResBlock(\n",
       "        (conv1): ConvBlock(\n",
       "          (conv): Conv2d(16, 16, kernel_size=(3, 3), stride=(1, 1), padding=(1, 1), bias=False)\n",
       "          (bn): BatchNorm2d(16, eps=1e-05, momentum=0.1, affine=True, track_running_stats=True)\n",
       "          (activ): ReLU(inplace=True)\n",
       "        )\n",
       "        (conv2): ConvBlock(\n",
       "          (conv): Conv2d(16, 16, kernel_size=(3, 3), stride=(1, 1), padding=(1, 1), bias=False)\n",
       "          (bn): BatchNorm2d(16, eps=1e-05, momentum=0.1, affine=True, track_running_stats=True)\n",
       "        )\n",
       "      )\n",
       "      (activ): ReLU(inplace=True)\n",
       "    )\n",
       "    (unit6): ResUnit(\n",
       "      (body): ResBlock(\n",
       "        (conv1): ConvBlock(\n",
       "          (conv): Conv2d(16, 16, kernel_size=(3, 3), stride=(1, 1), padding=(1, 1), bias=False)\n",
       "          (bn): BatchNorm2d(16, eps=1e-05, momentum=0.1, affine=True, track_running_stats=True)\n",
       "          (activ): ReLU(inplace=True)\n",
       "        )\n",
       "        (conv2): ConvBlock(\n",
       "          (conv): Conv2d(16, 16, kernel_size=(3, 3), stride=(1, 1), padding=(1, 1), bias=False)\n",
       "          (bn): BatchNorm2d(16, eps=1e-05, momentum=0.1, affine=True, track_running_stats=True)\n",
       "        )\n",
       "      )\n",
       "      (activ): ReLU(inplace=True)\n",
       "    )\n",
       "    (unit7): ResUnit(\n",
       "      (body): ResBlock(\n",
       "        (conv1): ConvBlock(\n",
       "          (conv): Conv2d(16, 16, kernel_size=(3, 3), stride=(1, 1), padding=(1, 1), bias=False)\n",
       "          (bn): BatchNorm2d(16, eps=1e-05, momentum=0.1, affine=True, track_running_stats=True)\n",
       "          (activ): ReLU(inplace=True)\n",
       "        )\n",
       "        (conv2): ConvBlock(\n",
       "          (conv): Conv2d(16, 16, kernel_size=(3, 3), stride=(1, 1), padding=(1, 1), bias=False)\n",
       "          (bn): BatchNorm2d(16, eps=1e-05, momentum=0.1, affine=True, track_running_stats=True)\n",
       "        )\n",
       "      )\n",
       "      (activ): ReLU(inplace=True)\n",
       "    )\n",
       "    (unit8): ResUnit(\n",
       "      (body): ResBlock(\n",
       "        (conv1): ConvBlock(\n",
       "          (conv): Conv2d(16, 16, kernel_size=(3, 3), stride=(1, 1), padding=(1, 1), bias=False)\n",
       "          (bn): BatchNorm2d(16, eps=1e-05, momentum=0.1, affine=True, track_running_stats=True)\n",
       "          (activ): ReLU(inplace=True)\n",
       "        )\n",
       "        (conv2): ConvBlock(\n",
       "          (conv): Conv2d(16, 16, kernel_size=(3, 3), stride=(1, 1), padding=(1, 1), bias=False)\n",
       "          (bn): BatchNorm2d(16, eps=1e-05, momentum=0.1, affine=True, track_running_stats=True)\n",
       "        )\n",
       "      )\n",
       "      (activ): ReLU(inplace=True)\n",
       "    )\n",
       "    (unit9): ResUnit(\n",
       "      (body): ResBlock(\n",
       "        (conv1): ConvBlock(\n",
       "          (conv): Conv2d(16, 16, kernel_size=(3, 3), stride=(1, 1), padding=(1, 1), bias=False)\n",
       "          (bn): BatchNorm2d(16, eps=1e-05, momentum=0.1, affine=True, track_running_stats=True)\n",
       "          (activ): ReLU(inplace=True)\n",
       "        )\n",
       "        (conv2): ConvBlock(\n",
       "          (conv): Conv2d(16, 16, kernel_size=(3, 3), stride=(1, 1), padding=(1, 1), bias=False)\n",
       "          (bn): BatchNorm2d(16, eps=1e-05, momentum=0.1, affine=True, track_running_stats=True)\n",
       "        )\n",
       "      )\n",
       "      (activ): ReLU(inplace=True)\n",
       "    )\n",
       "    (unit10): ResUnit(\n",
       "      (body): ResBlock(\n",
       "        (conv1): ConvBlock(\n",
       "          (conv): Conv2d(16, 16, kernel_size=(3, 3), stride=(1, 1), padding=(1, 1), bias=False)\n",
       "          (bn): BatchNorm2d(16, eps=1e-05, momentum=0.1, affine=True, track_running_stats=True)\n",
       "          (activ): ReLU(inplace=True)\n",
       "        )\n",
       "        (conv2): ConvBlock(\n",
       "          (conv): Conv2d(16, 16, kernel_size=(3, 3), stride=(1, 1), padding=(1, 1), bias=False)\n",
       "          (bn): BatchNorm2d(16, eps=1e-05, momentum=0.1, affine=True, track_running_stats=True)\n",
       "        )\n",
       "      )\n",
       "      (activ): ReLU(inplace=True)\n",
       "    )\n",
       "    (unit11): ResUnit(\n",
       "      (body): ResBlock(\n",
       "        (conv1): ConvBlock(\n",
       "          (conv): Conv2d(16, 16, kernel_size=(3, 3), stride=(1, 1), padding=(1, 1), bias=False)\n",
       "          (bn): BatchNorm2d(16, eps=1e-05, momentum=0.1, affine=True, track_running_stats=True)\n",
       "          (activ): ReLU(inplace=True)\n",
       "        )\n",
       "        (conv2): ConvBlock(\n",
       "          (conv): Conv2d(16, 16, kernel_size=(3, 3), stride=(1, 1), padding=(1, 1), bias=False)\n",
       "          (bn): BatchNorm2d(16, eps=1e-05, momentum=0.1, affine=True, track_running_stats=True)\n",
       "        )\n",
       "      )\n",
       "      (activ): ReLU(inplace=True)\n",
       "    )\n",
       "    (unit12): ResUnit(\n",
       "      (body): ResBlock(\n",
       "        (conv1): ConvBlock(\n",
       "          (conv): Conv2d(16, 16, kernel_size=(3, 3), stride=(1, 1), padding=(1, 1), bias=False)\n",
       "          (bn): BatchNorm2d(16, eps=1e-05, momentum=0.1, affine=True, track_running_stats=True)\n",
       "          (activ): ReLU(inplace=True)\n",
       "        )\n",
       "        (conv2): ConvBlock(\n",
       "          (conv): Conv2d(16, 16, kernel_size=(3, 3), stride=(1, 1), padding=(1, 1), bias=False)\n",
       "          (bn): BatchNorm2d(16, eps=1e-05, momentum=0.1, affine=True, track_running_stats=True)\n",
       "        )\n",
       "      )\n",
       "      (activ): ReLU(inplace=True)\n",
       "    )\n",
       "    (unit13): ResUnit(\n",
       "      (body): ResBlock(\n",
       "        (conv1): ConvBlock(\n",
       "          (conv): Conv2d(16, 16, kernel_size=(3, 3), stride=(1, 1), padding=(1, 1), bias=False)\n",
       "          (bn): BatchNorm2d(16, eps=1e-05, momentum=0.1, affine=True, track_running_stats=True)\n",
       "          (activ): ReLU(inplace=True)\n",
       "        )\n",
       "        (conv2): ConvBlock(\n",
       "          (conv): Conv2d(16, 16, kernel_size=(3, 3), stride=(1, 1), padding=(1, 1), bias=False)\n",
       "          (bn): BatchNorm2d(16, eps=1e-05, momentum=0.1, affine=True, track_running_stats=True)\n",
       "        )\n",
       "      )\n",
       "      (activ): ReLU(inplace=True)\n",
       "    )\n",
       "    (unit14): ResUnit(\n",
       "      (body): ResBlock(\n",
       "        (conv1): ConvBlock(\n",
       "          (conv): Conv2d(16, 16, kernel_size=(3, 3), stride=(1, 1), padding=(1, 1), bias=False)\n",
       "          (bn): BatchNorm2d(16, eps=1e-05, momentum=0.1, affine=True, track_running_stats=True)\n",
       "          (activ): ReLU(inplace=True)\n",
       "        )\n",
       "        (conv2): ConvBlock(\n",
       "          (conv): Conv2d(16, 16, kernel_size=(3, 3), stride=(1, 1), padding=(1, 1), bias=False)\n",
       "          (bn): BatchNorm2d(16, eps=1e-05, momentum=0.1, affine=True, track_running_stats=True)\n",
       "        )\n",
       "      )\n",
       "      (activ): ReLU(inplace=True)\n",
       "    )\n",
       "    (unit15): ResUnit(\n",
       "      (body): ResBlock(\n",
       "        (conv1): ConvBlock(\n",
       "          (conv): Conv2d(16, 16, kernel_size=(3, 3), stride=(1, 1), padding=(1, 1), bias=False)\n",
       "          (bn): BatchNorm2d(16, eps=1e-05, momentum=0.1, affine=True, track_running_stats=True)\n",
       "          (activ): ReLU(inplace=True)\n",
       "        )\n",
       "        (conv2): ConvBlock(\n",
       "          (conv): Conv2d(16, 16, kernel_size=(3, 3), stride=(1, 1), padding=(1, 1), bias=False)\n",
       "          (bn): BatchNorm2d(16, eps=1e-05, momentum=0.1, affine=True, track_running_stats=True)\n",
       "        )\n",
       "      )\n",
       "      (activ): ReLU(inplace=True)\n",
       "    )\n",
       "    (unit16): ResUnit(\n",
       "      (body): ResBlock(\n",
       "        (conv1): ConvBlock(\n",
       "          (conv): Conv2d(16, 16, kernel_size=(3, 3), stride=(1, 1), padding=(1, 1), bias=False)\n",
       "          (bn): BatchNorm2d(16, eps=1e-05, momentum=0.1, affine=True, track_running_stats=True)\n",
       "          (activ): ReLU(inplace=True)\n",
       "        )\n",
       "        (conv2): ConvBlock(\n",
       "          (conv): Conv2d(16, 16, kernel_size=(3, 3), stride=(1, 1), padding=(1, 1), bias=False)\n",
       "          (bn): BatchNorm2d(16, eps=1e-05, momentum=0.1, affine=True, track_running_stats=True)\n",
       "        )\n",
       "      )\n",
       "      (activ): ReLU(inplace=True)\n",
       "    )\n",
       "    (unit17): ResUnit(\n",
       "      (body): ResBlock(\n",
       "        (conv1): ConvBlock(\n",
       "          (conv): Conv2d(16, 16, kernel_size=(3, 3), stride=(1, 1), padding=(1, 1), bias=False)\n",
       "          (bn): BatchNorm2d(16, eps=1e-05, momentum=0.1, affine=True, track_running_stats=True)\n",
       "          (activ): ReLU(inplace=True)\n",
       "        )\n",
       "        (conv2): ConvBlock(\n",
       "          (conv): Conv2d(16, 16, kernel_size=(3, 3), stride=(1, 1), padding=(1, 1), bias=False)\n",
       "          (bn): BatchNorm2d(16, eps=1e-05, momentum=0.1, affine=True, track_running_stats=True)\n",
       "        )\n",
       "      )\n",
       "      (activ): ReLU(inplace=True)\n",
       "    )\n",
       "    (unit18): ResUnit(\n",
       "      (body): ResBlock(\n",
       "        (conv1): ConvBlock(\n",
       "          (conv): Conv2d(16, 16, kernel_size=(3, 3), stride=(1, 1), padding=(1, 1), bias=False)\n",
       "          (bn): BatchNorm2d(16, eps=1e-05, momentum=0.1, affine=True, track_running_stats=True)\n",
       "          (activ): ReLU(inplace=True)\n",
       "        )\n",
       "        (conv2): ConvBlock(\n",
       "          (conv): Conv2d(16, 16, kernel_size=(3, 3), stride=(1, 1), padding=(1, 1), bias=False)\n",
       "          (bn): BatchNorm2d(16, eps=1e-05, momentum=0.1, affine=True, track_running_stats=True)\n",
       "        )\n",
       "      )\n",
       "      (activ): ReLU(inplace=True)\n",
       "    )\n",
       "  )\n",
       "  (stage2): Sequential(\n",
       "    (unit1): ResUnit(\n",
       "      (body): ResBlock(\n",
       "        (conv1): ConvBlock(\n",
       "          (conv): Conv2d(16, 32, kernel_size=(3, 3), stride=(2, 2), padding=(1, 1), bias=False)\n",
       "          (bn): BatchNorm2d(32, eps=1e-05, momentum=0.1, affine=True, track_running_stats=True)\n",
       "          (activ): ReLU(inplace=True)\n",
       "        )\n",
       "        (conv2): ConvBlock(\n",
       "          (conv): Conv2d(32, 32, kernel_size=(3, 3), stride=(1, 1), padding=(1, 1), bias=False)\n",
       "          (bn): BatchNorm2d(32, eps=1e-05, momentum=0.1, affine=True, track_running_stats=True)\n",
       "        )\n",
       "      )\n",
       "      (identity_conv): ConvBlock(\n",
       "        (conv): Conv2d(16, 32, kernel_size=(1, 1), stride=(2, 2), bias=False)\n",
       "        (bn): BatchNorm2d(32, eps=1e-05, momentum=0.1, affine=True, track_running_stats=True)\n",
       "      )\n",
       "      (activ): ReLU(inplace=True)\n",
       "    )\n",
       "    (unit2): ResUnit(\n",
       "      (body): ResBlock(\n",
       "        (conv1): ConvBlock(\n",
       "          (conv): Conv2d(32, 32, kernel_size=(3, 3), stride=(1, 1), padding=(1, 1), bias=False)\n",
       "          (bn): BatchNorm2d(32, eps=1e-05, momentum=0.1, affine=True, track_running_stats=True)\n",
       "          (activ): ReLU(inplace=True)\n",
       "        )\n",
       "        (conv2): ConvBlock(\n",
       "          (conv): Conv2d(32, 32, kernel_size=(3, 3), stride=(1, 1), padding=(1, 1), bias=False)\n",
       "          (bn): BatchNorm2d(32, eps=1e-05, momentum=0.1, affine=True, track_running_stats=True)\n",
       "        )\n",
       "      )\n",
       "      (activ): ReLU(inplace=True)\n",
       "    )\n",
       "    (unit3): ResUnit(\n",
       "      (body): ResBlock(\n",
       "        (conv1): ConvBlock(\n",
       "          (conv): Conv2d(32, 32, kernel_size=(3, 3), stride=(1, 1), padding=(1, 1), bias=False)\n",
       "          (bn): BatchNorm2d(32, eps=1e-05, momentum=0.1, affine=True, track_running_stats=True)\n",
       "          (activ): ReLU(inplace=True)\n",
       "        )\n",
       "        (conv2): ConvBlock(\n",
       "          (conv): Conv2d(32, 32, kernel_size=(3, 3), stride=(1, 1), padding=(1, 1), bias=False)\n",
       "          (bn): BatchNorm2d(32, eps=1e-05, momentum=0.1, affine=True, track_running_stats=True)\n",
       "        )\n",
       "      )\n",
       "      (activ): ReLU(inplace=True)\n",
       "    )\n",
       "    (unit4): ResUnit(\n",
       "      (body): ResBlock(\n",
       "        (conv1): ConvBlock(\n",
       "          (conv): Conv2d(32, 32, kernel_size=(3, 3), stride=(1, 1), padding=(1, 1), bias=False)\n",
       "          (bn): BatchNorm2d(32, eps=1e-05, momentum=0.1, affine=True, track_running_stats=True)\n",
       "          (activ): ReLU(inplace=True)\n",
       "        )\n",
       "        (conv2): ConvBlock(\n",
       "          (conv): Conv2d(32, 32, kernel_size=(3, 3), stride=(1, 1), padding=(1, 1), bias=False)\n",
       "          (bn): BatchNorm2d(32, eps=1e-05, momentum=0.1, affine=True, track_running_stats=True)\n",
       "        )\n",
       "      )\n",
       "      (activ): ReLU(inplace=True)\n",
       "    )\n",
       "    (unit5): ResUnit(\n",
       "      (body): ResBlock(\n",
       "        (conv1): ConvBlock(\n",
       "          (conv): Conv2d(32, 32, kernel_size=(3, 3), stride=(1, 1), padding=(1, 1), bias=False)\n",
       "          (bn): BatchNorm2d(32, eps=1e-05, momentum=0.1, affine=True, track_running_stats=True)\n",
       "          (activ): ReLU(inplace=True)\n",
       "        )\n",
       "        (conv2): ConvBlock(\n",
       "          (conv): Conv2d(32, 32, kernel_size=(3, 3), stride=(1, 1), padding=(1, 1), bias=False)\n",
       "          (bn): BatchNorm2d(32, eps=1e-05, momentum=0.1, affine=True, track_running_stats=True)\n",
       "        )\n",
       "      )\n",
       "      (activ): ReLU(inplace=True)\n",
       "    )\n",
       "    (unit6): ResUnit(\n",
       "      (body): ResBlock(\n",
       "        (conv1): ConvBlock(\n",
       "          (conv): Conv2d(32, 32, kernel_size=(3, 3), stride=(1, 1), padding=(1, 1), bias=False)\n",
       "          (bn): BatchNorm2d(32, eps=1e-05, momentum=0.1, affine=True, track_running_stats=True)\n",
       "          (activ): ReLU(inplace=True)\n",
       "        )\n",
       "        (conv2): ConvBlock(\n",
       "          (conv): Conv2d(32, 32, kernel_size=(3, 3), stride=(1, 1), padding=(1, 1), bias=False)\n",
       "          (bn): BatchNorm2d(32, eps=1e-05, momentum=0.1, affine=True, track_running_stats=True)\n",
       "        )\n",
       "      )\n",
       "      (activ): ReLU(inplace=True)\n",
       "    )\n",
       "    (unit7): ResUnit(\n",
       "      (body): ResBlock(\n",
       "        (conv1): ConvBlock(\n",
       "          (conv): Conv2d(32, 32, kernel_size=(3, 3), stride=(1, 1), padding=(1, 1), bias=False)\n",
       "          (bn): BatchNorm2d(32, eps=1e-05, momentum=0.1, affine=True, track_running_stats=True)\n",
       "          (activ): ReLU(inplace=True)\n",
       "        )\n",
       "        (conv2): ConvBlock(\n",
       "          (conv): Conv2d(32, 32, kernel_size=(3, 3), stride=(1, 1), padding=(1, 1), bias=False)\n",
       "          (bn): BatchNorm2d(32, eps=1e-05, momentum=0.1, affine=True, track_running_stats=True)\n",
       "        )\n",
       "      )\n",
       "      (activ): ReLU(inplace=True)\n",
       "    )\n",
       "    (unit8): ResUnit(\n",
       "      (body): ResBlock(\n",
       "        (conv1): ConvBlock(\n",
       "          (conv): Conv2d(32, 32, kernel_size=(3, 3), stride=(1, 1), padding=(1, 1), bias=False)\n",
       "          (bn): BatchNorm2d(32, eps=1e-05, momentum=0.1, affine=True, track_running_stats=True)\n",
       "          (activ): ReLU(inplace=True)\n",
       "        )\n",
       "        (conv2): ConvBlock(\n",
       "          (conv): Conv2d(32, 32, kernel_size=(3, 3), stride=(1, 1), padding=(1, 1), bias=False)\n",
       "          (bn): BatchNorm2d(32, eps=1e-05, momentum=0.1, affine=True, track_running_stats=True)\n",
       "        )\n",
       "      )\n",
       "      (activ): ReLU(inplace=True)\n",
       "    )\n",
       "    (unit9): ResUnit(\n",
       "      (body): ResBlock(\n",
       "        (conv1): ConvBlock(\n",
       "          (conv): Conv2d(32, 32, kernel_size=(3, 3), stride=(1, 1), padding=(1, 1), bias=False)\n",
       "          (bn): BatchNorm2d(32, eps=1e-05, momentum=0.1, affine=True, track_running_stats=True)\n",
       "          (activ): ReLU(inplace=True)\n",
       "        )\n",
       "        (conv2): ConvBlock(\n",
       "          (conv): Conv2d(32, 32, kernel_size=(3, 3), stride=(1, 1), padding=(1, 1), bias=False)\n",
       "          (bn): BatchNorm2d(32, eps=1e-05, momentum=0.1, affine=True, track_running_stats=True)\n",
       "        )\n",
       "      )\n",
       "      (activ): ReLU(inplace=True)\n",
       "    )\n",
       "    (unit10): ResUnit(\n",
       "      (body): ResBlock(\n",
       "        (conv1): ConvBlock(\n",
       "          (conv): Conv2d(32, 32, kernel_size=(3, 3), stride=(1, 1), padding=(1, 1), bias=False)\n",
       "          (bn): BatchNorm2d(32, eps=1e-05, momentum=0.1, affine=True, track_running_stats=True)\n",
       "          (activ): ReLU(inplace=True)\n",
       "        )\n",
       "        (conv2): ConvBlock(\n",
       "          (conv): Conv2d(32, 32, kernel_size=(3, 3), stride=(1, 1), padding=(1, 1), bias=False)\n",
       "          (bn): BatchNorm2d(32, eps=1e-05, momentum=0.1, affine=True, track_running_stats=True)\n",
       "        )\n",
       "      )\n",
       "      (activ): ReLU(inplace=True)\n",
       "    )\n",
       "    (unit11): ResUnit(\n",
       "      (body): ResBlock(\n",
       "        (conv1): ConvBlock(\n",
       "          (conv): Conv2d(32, 32, kernel_size=(3, 3), stride=(1, 1), padding=(1, 1), bias=False)\n",
       "          (bn): BatchNorm2d(32, eps=1e-05, momentum=0.1, affine=True, track_running_stats=True)\n",
       "          (activ): ReLU(inplace=True)\n",
       "        )\n",
       "        (conv2): ConvBlock(\n",
       "          (conv): Conv2d(32, 32, kernel_size=(3, 3), stride=(1, 1), padding=(1, 1), bias=False)\n",
       "          (bn): BatchNorm2d(32, eps=1e-05, momentum=0.1, affine=True, track_running_stats=True)\n",
       "        )\n",
       "      )\n",
       "      (activ): ReLU(inplace=True)\n",
       "    )\n",
       "    (unit12): ResUnit(\n",
       "      (body): ResBlock(\n",
       "        (conv1): ConvBlock(\n",
       "          (conv): Conv2d(32, 32, kernel_size=(3, 3), stride=(1, 1), padding=(1, 1), bias=False)\n",
       "          (bn): BatchNorm2d(32, eps=1e-05, momentum=0.1, affine=True, track_running_stats=True)\n",
       "          (activ): ReLU(inplace=True)\n",
       "        )\n",
       "        (conv2): ConvBlock(\n",
       "          (conv): Conv2d(32, 32, kernel_size=(3, 3), stride=(1, 1), padding=(1, 1), bias=False)\n",
       "          (bn): BatchNorm2d(32, eps=1e-05, momentum=0.1, affine=True, track_running_stats=True)\n",
       "        )\n",
       "      )\n",
       "      (activ): ReLU(inplace=True)\n",
       "    )\n",
       "    (unit13): ResUnit(\n",
       "      (body): ResBlock(\n",
       "        (conv1): ConvBlock(\n",
       "          (conv): Conv2d(32, 32, kernel_size=(3, 3), stride=(1, 1), padding=(1, 1), bias=False)\n",
       "          (bn): BatchNorm2d(32, eps=1e-05, momentum=0.1, affine=True, track_running_stats=True)\n",
       "          (activ): ReLU(inplace=True)\n",
       "        )\n",
       "        (conv2): ConvBlock(\n",
       "          (conv): Conv2d(32, 32, kernel_size=(3, 3), stride=(1, 1), padding=(1, 1), bias=False)\n",
       "          (bn): BatchNorm2d(32, eps=1e-05, momentum=0.1, affine=True, track_running_stats=True)\n",
       "        )\n",
       "      )\n",
       "      (activ): ReLU(inplace=True)\n",
       "    )\n",
       "    (unit14): ResUnit(\n",
       "      (body): ResBlock(\n",
       "        (conv1): ConvBlock(\n",
       "          (conv): Conv2d(32, 32, kernel_size=(3, 3), stride=(1, 1), padding=(1, 1), bias=False)\n",
       "          (bn): BatchNorm2d(32, eps=1e-05, momentum=0.1, affine=True, track_running_stats=True)\n",
       "          (activ): ReLU(inplace=True)\n",
       "        )\n",
       "        (conv2): ConvBlock(\n",
       "          (conv): Conv2d(32, 32, kernel_size=(3, 3), stride=(1, 1), padding=(1, 1), bias=False)\n",
       "          (bn): BatchNorm2d(32, eps=1e-05, momentum=0.1, affine=True, track_running_stats=True)\n",
       "        )\n",
       "      )\n",
       "      (activ): ReLU(inplace=True)\n",
       "    )\n",
       "    (unit15): ResUnit(\n",
       "      (body): ResBlock(\n",
       "        (conv1): ConvBlock(\n",
       "          (conv): Conv2d(32, 32, kernel_size=(3, 3), stride=(1, 1), padding=(1, 1), bias=False)\n",
       "          (bn): BatchNorm2d(32, eps=1e-05, momentum=0.1, affine=True, track_running_stats=True)\n",
       "          (activ): ReLU(inplace=True)\n",
       "        )\n",
       "        (conv2): ConvBlock(\n",
       "          (conv): Conv2d(32, 32, kernel_size=(3, 3), stride=(1, 1), padding=(1, 1), bias=False)\n",
       "          (bn): BatchNorm2d(32, eps=1e-05, momentum=0.1, affine=True, track_running_stats=True)\n",
       "        )\n",
       "      )\n",
       "      (activ): ReLU(inplace=True)\n",
       "    )\n",
       "    (unit16): ResUnit(\n",
       "      (body): ResBlock(\n",
       "        (conv1): ConvBlock(\n",
       "          (conv): Conv2d(32, 32, kernel_size=(3, 3), stride=(1, 1), padding=(1, 1), bias=False)\n",
       "          (bn): BatchNorm2d(32, eps=1e-05, momentum=0.1, affine=True, track_running_stats=True)\n",
       "          (activ): ReLU(inplace=True)\n",
       "        )\n",
       "        (conv2): ConvBlock(\n",
       "          (conv): Conv2d(32, 32, kernel_size=(3, 3), stride=(1, 1), padding=(1, 1), bias=False)\n",
       "          (bn): BatchNorm2d(32, eps=1e-05, momentum=0.1, affine=True, track_running_stats=True)\n",
       "        )\n",
       "      )\n",
       "      (activ): ReLU(inplace=True)\n",
       "    )\n",
       "    (unit17): ResUnit(\n",
       "      (body): ResBlock(\n",
       "        (conv1): ConvBlock(\n",
       "          (conv): Conv2d(32, 32, kernel_size=(3, 3), stride=(1, 1), padding=(1, 1), bias=False)\n",
       "          (bn): BatchNorm2d(32, eps=1e-05, momentum=0.1, affine=True, track_running_stats=True)\n",
       "          (activ): ReLU(inplace=True)\n",
       "        )\n",
       "        (conv2): ConvBlock(\n",
       "          (conv): Conv2d(32, 32, kernel_size=(3, 3), stride=(1, 1), padding=(1, 1), bias=False)\n",
       "          (bn): BatchNorm2d(32, eps=1e-05, momentum=0.1, affine=True, track_running_stats=True)\n",
       "        )\n",
       "      )\n",
       "      (activ): ReLU(inplace=True)\n",
       "    )\n",
       "    (unit18): ResUnit(\n",
       "      (body): ResBlock(\n",
       "        (conv1): ConvBlock(\n",
       "          (conv): Conv2d(32, 32, kernel_size=(3, 3), stride=(1, 1), padding=(1, 1), bias=False)\n",
       "          (bn): BatchNorm2d(32, eps=1e-05, momentum=0.1, affine=True, track_running_stats=True)\n",
       "          (activ): ReLU(inplace=True)\n",
       "        )\n",
       "        (conv2): ConvBlock(\n",
       "          (conv): Conv2d(32, 32, kernel_size=(3, 3), stride=(1, 1), padding=(1, 1), bias=False)\n",
       "          (bn): BatchNorm2d(32, eps=1e-05, momentum=0.1, affine=True, track_running_stats=True)\n",
       "        )\n",
       "      )\n",
       "      (activ): ReLU(inplace=True)\n",
       "    )\n",
       "  )\n",
       "  (stage3): Sequential(\n",
       "    (unit1): ResUnit(\n",
       "      (body): ResBlock(\n",
       "        (conv1): ConvBlock(\n",
       "          (conv): Conv2d(32, 64, kernel_size=(3, 3), stride=(2, 2), padding=(1, 1), bias=False)\n",
       "          (bn): BatchNorm2d(64, eps=1e-05, momentum=0.1, affine=True, track_running_stats=True)\n",
       "          (activ): ReLU(inplace=True)\n",
       "        )\n",
       "        (conv2): ConvBlock(\n",
       "          (conv): Conv2d(64, 64, kernel_size=(3, 3), stride=(1, 1), padding=(1, 1), bias=False)\n",
       "          (bn): BatchNorm2d(64, eps=1e-05, momentum=0.1, affine=True, track_running_stats=True)\n",
       "        )\n",
       "      )\n",
       "      (identity_conv): ConvBlock(\n",
       "        (conv): Conv2d(32, 64, kernel_size=(1, 1), stride=(2, 2), bias=False)\n",
       "        (bn): BatchNorm2d(64, eps=1e-05, momentum=0.1, affine=True, track_running_stats=True)\n",
       "      )\n",
       "      (activ): ReLU(inplace=True)\n",
       "    )\n",
       "    (unit2): ResUnit(\n",
       "      (body): ResBlock(\n",
       "        (conv1): ConvBlock(\n",
       "          (conv): Conv2d(64, 64, kernel_size=(3, 3), stride=(1, 1), padding=(1, 1), bias=False)\n",
       "          (bn): BatchNorm2d(64, eps=1e-05, momentum=0.1, affine=True, track_running_stats=True)\n",
       "          (activ): ReLU(inplace=True)\n",
       "        )\n",
       "        (conv2): ConvBlock(\n",
       "          (conv): Conv2d(64, 64, kernel_size=(3, 3), stride=(1, 1), padding=(1, 1), bias=False)\n",
       "          (bn): BatchNorm2d(64, eps=1e-05, momentum=0.1, affine=True, track_running_stats=True)\n",
       "        )\n",
       "      )\n",
       "      (activ): ReLU(inplace=True)\n",
       "    )\n",
       "    (unit3): ResUnit(\n",
       "      (body): ResBlock(\n",
       "        (conv1): ConvBlock(\n",
       "          (conv): Conv2d(64, 64, kernel_size=(3, 3), stride=(1, 1), padding=(1, 1), bias=False)\n",
       "          (bn): BatchNorm2d(64, eps=1e-05, momentum=0.1, affine=True, track_running_stats=True)\n",
       "          (activ): ReLU(inplace=True)\n",
       "        )\n",
       "        (conv2): ConvBlock(\n",
       "          (conv): Conv2d(64, 64, kernel_size=(3, 3), stride=(1, 1), padding=(1, 1), bias=False)\n",
       "          (bn): BatchNorm2d(64, eps=1e-05, momentum=0.1, affine=True, track_running_stats=True)\n",
       "        )\n",
       "      )\n",
       "      (activ): ReLU(inplace=True)\n",
       "    )\n",
       "    (unit4): ResUnit(\n",
       "      (body): ResBlock(\n",
       "        (conv1): ConvBlock(\n",
       "          (conv): Conv2d(64, 64, kernel_size=(3, 3), stride=(1, 1), padding=(1, 1), bias=False)\n",
       "          (bn): BatchNorm2d(64, eps=1e-05, momentum=0.1, affine=True, track_running_stats=True)\n",
       "          (activ): ReLU(inplace=True)\n",
       "        )\n",
       "        (conv2): ConvBlock(\n",
       "          (conv): Conv2d(64, 64, kernel_size=(3, 3), stride=(1, 1), padding=(1, 1), bias=False)\n",
       "          (bn): BatchNorm2d(64, eps=1e-05, momentum=0.1, affine=True, track_running_stats=True)\n",
       "        )\n",
       "      )\n",
       "      (activ): ReLU(inplace=True)\n",
       "    )\n",
       "    (unit5): ResUnit(\n",
       "      (body): ResBlock(\n",
       "        (conv1): ConvBlock(\n",
       "          (conv): Conv2d(64, 64, kernel_size=(3, 3), stride=(1, 1), padding=(1, 1), bias=False)\n",
       "          (bn): BatchNorm2d(64, eps=1e-05, momentum=0.1, affine=True, track_running_stats=True)\n",
       "          (activ): ReLU(inplace=True)\n",
       "        )\n",
       "        (conv2): ConvBlock(\n",
       "          (conv): Conv2d(64, 64, kernel_size=(3, 3), stride=(1, 1), padding=(1, 1), bias=False)\n",
       "          (bn): BatchNorm2d(64, eps=1e-05, momentum=0.1, affine=True, track_running_stats=True)\n",
       "        )\n",
       "      )\n",
       "      (activ): ReLU(inplace=True)\n",
       "    )\n",
       "    (unit6): ResUnit(\n",
       "      (body): ResBlock(\n",
       "        (conv1): ConvBlock(\n",
       "          (conv): Conv2d(64, 64, kernel_size=(3, 3), stride=(1, 1), padding=(1, 1), bias=False)\n",
       "          (bn): BatchNorm2d(64, eps=1e-05, momentum=0.1, affine=True, track_running_stats=True)\n",
       "          (activ): ReLU(inplace=True)\n",
       "        )\n",
       "        (conv2): ConvBlock(\n",
       "          (conv): Conv2d(64, 64, kernel_size=(3, 3), stride=(1, 1), padding=(1, 1), bias=False)\n",
       "          (bn): BatchNorm2d(64, eps=1e-05, momentum=0.1, affine=True, track_running_stats=True)\n",
       "        )\n",
       "      )\n",
       "      (activ): ReLU(inplace=True)\n",
       "    )\n",
       "    (unit7): ResUnit(\n",
       "      (body): ResBlock(\n",
       "        (conv1): ConvBlock(\n",
       "          (conv): Conv2d(64, 64, kernel_size=(3, 3), stride=(1, 1), padding=(1, 1), bias=False)\n",
       "          (bn): BatchNorm2d(64, eps=1e-05, momentum=0.1, affine=True, track_running_stats=True)\n",
       "          (activ): ReLU(inplace=True)\n",
       "        )\n",
       "        (conv2): ConvBlock(\n",
       "          (conv): Conv2d(64, 64, kernel_size=(3, 3), stride=(1, 1), padding=(1, 1), bias=False)\n",
       "          (bn): BatchNorm2d(64, eps=1e-05, momentum=0.1, affine=True, track_running_stats=True)\n",
       "        )\n",
       "      )\n",
       "      (activ): ReLU(inplace=True)\n",
       "    )\n",
       "    (unit8): ResUnit(\n",
       "      (body): ResBlock(\n",
       "        (conv1): ConvBlock(\n",
       "          (conv): Conv2d(64, 64, kernel_size=(3, 3), stride=(1, 1), padding=(1, 1), bias=False)\n",
       "          (bn): BatchNorm2d(64, eps=1e-05, momentum=0.1, affine=True, track_running_stats=True)\n",
       "          (activ): ReLU(inplace=True)\n",
       "        )\n",
       "        (conv2): ConvBlock(\n",
       "          (conv): Conv2d(64, 64, kernel_size=(3, 3), stride=(1, 1), padding=(1, 1), bias=False)\n",
       "          (bn): BatchNorm2d(64, eps=1e-05, momentum=0.1, affine=True, track_running_stats=True)\n",
       "        )\n",
       "      )\n",
       "      (activ): ReLU(inplace=True)\n",
       "    )\n",
       "    (unit9): ResUnit(\n",
       "      (body): ResBlock(\n",
       "        (conv1): ConvBlock(\n",
       "          (conv): Conv2d(64, 64, kernel_size=(3, 3), stride=(1, 1), padding=(1, 1), bias=False)\n",
       "          (bn): BatchNorm2d(64, eps=1e-05, momentum=0.1, affine=True, track_running_stats=True)\n",
       "          (activ): ReLU(inplace=True)\n",
       "        )\n",
       "        (conv2): ConvBlock(\n",
       "          (conv): Conv2d(64, 64, kernel_size=(3, 3), stride=(1, 1), padding=(1, 1), bias=False)\n",
       "          (bn): BatchNorm2d(64, eps=1e-05, momentum=0.1, affine=True, track_running_stats=True)\n",
       "        )\n",
       "      )\n",
       "      (activ): ReLU(inplace=True)\n",
       "    )\n",
       "    (unit10): ResUnit(\n",
       "      (body): ResBlock(\n",
       "        (conv1): ConvBlock(\n",
       "          (conv): Conv2d(64, 64, kernel_size=(3, 3), stride=(1, 1), padding=(1, 1), bias=False)\n",
       "          (bn): BatchNorm2d(64, eps=1e-05, momentum=0.1, affine=True, track_running_stats=True)\n",
       "          (activ): ReLU(inplace=True)\n",
       "        )\n",
       "        (conv2): ConvBlock(\n",
       "          (conv): Conv2d(64, 64, kernel_size=(3, 3), stride=(1, 1), padding=(1, 1), bias=False)\n",
       "          (bn): BatchNorm2d(64, eps=1e-05, momentum=0.1, affine=True, track_running_stats=True)\n",
       "        )\n",
       "      )\n",
       "      (activ): ReLU(inplace=True)\n",
       "    )\n",
       "    (unit11): ResUnit(\n",
       "      (body): ResBlock(\n",
       "        (conv1): ConvBlock(\n",
       "          (conv): Conv2d(64, 64, kernel_size=(3, 3), stride=(1, 1), padding=(1, 1), bias=False)\n",
       "          (bn): BatchNorm2d(64, eps=1e-05, momentum=0.1, affine=True, track_running_stats=True)\n",
       "          (activ): ReLU(inplace=True)\n",
       "        )\n",
       "        (conv2): ConvBlock(\n",
       "          (conv): Conv2d(64, 64, kernel_size=(3, 3), stride=(1, 1), padding=(1, 1), bias=False)\n",
       "          (bn): BatchNorm2d(64, eps=1e-05, momentum=0.1, affine=True, track_running_stats=True)\n",
       "        )\n",
       "      )\n",
       "      (activ): ReLU(inplace=True)\n",
       "    )\n",
       "    (unit12): ResUnit(\n",
       "      (body): ResBlock(\n",
       "        (conv1): ConvBlock(\n",
       "          (conv): Conv2d(64, 64, kernel_size=(3, 3), stride=(1, 1), padding=(1, 1), bias=False)\n",
       "          (bn): BatchNorm2d(64, eps=1e-05, momentum=0.1, affine=True, track_running_stats=True)\n",
       "          (activ): ReLU(inplace=True)\n",
       "        )\n",
       "        (conv2): ConvBlock(\n",
       "          (conv): Conv2d(64, 64, kernel_size=(3, 3), stride=(1, 1), padding=(1, 1), bias=False)\n",
       "          (bn): BatchNorm2d(64, eps=1e-05, momentum=0.1, affine=True, track_running_stats=True)\n",
       "        )\n",
       "      )\n",
       "      (activ): ReLU(inplace=True)\n",
       "    )\n",
       "    (unit13): ResUnit(\n",
       "      (body): ResBlock(\n",
       "        (conv1): ConvBlock(\n",
       "          (conv): Conv2d(64, 64, kernel_size=(3, 3), stride=(1, 1), padding=(1, 1), bias=False)\n",
       "          (bn): BatchNorm2d(64, eps=1e-05, momentum=0.1, affine=True, track_running_stats=True)\n",
       "          (activ): ReLU(inplace=True)\n",
       "        )\n",
       "        (conv2): ConvBlock(\n",
       "          (conv): Conv2d(64, 64, kernel_size=(3, 3), stride=(1, 1), padding=(1, 1), bias=False)\n",
       "          (bn): BatchNorm2d(64, eps=1e-05, momentum=0.1, affine=True, track_running_stats=True)\n",
       "        )\n",
       "      )\n",
       "      (activ): ReLU(inplace=True)\n",
       "    )\n",
       "    (unit14): ResUnit(\n",
       "      (body): ResBlock(\n",
       "        (conv1): ConvBlock(\n",
       "          (conv): Conv2d(64, 64, kernel_size=(3, 3), stride=(1, 1), padding=(1, 1), bias=False)\n",
       "          (bn): BatchNorm2d(64, eps=1e-05, momentum=0.1, affine=True, track_running_stats=True)\n",
       "          (activ): ReLU(inplace=True)\n",
       "        )\n",
       "        (conv2): ConvBlock(\n",
       "          (conv): Conv2d(64, 64, kernel_size=(3, 3), stride=(1, 1), padding=(1, 1), bias=False)\n",
       "          (bn): BatchNorm2d(64, eps=1e-05, momentum=0.1, affine=True, track_running_stats=True)\n",
       "        )\n",
       "      )\n",
       "      (activ): ReLU(inplace=True)\n",
       "    )\n",
       "    (unit15): ResUnit(\n",
       "      (body): ResBlock(\n",
       "        (conv1): ConvBlock(\n",
       "          (conv): Conv2d(64, 64, kernel_size=(3, 3), stride=(1, 1), padding=(1, 1), bias=False)\n",
       "          (bn): BatchNorm2d(64, eps=1e-05, momentum=0.1, affine=True, track_running_stats=True)\n",
       "          (activ): ReLU(inplace=True)\n",
       "        )\n",
       "        (conv2): ConvBlock(\n",
       "          (conv): Conv2d(64, 64, kernel_size=(3, 3), stride=(1, 1), padding=(1, 1), bias=False)\n",
       "          (bn): BatchNorm2d(64, eps=1e-05, momentum=0.1, affine=True, track_running_stats=True)\n",
       "        )\n",
       "      )\n",
       "      (activ): ReLU(inplace=True)\n",
       "    )\n",
       "    (unit16): ResUnit(\n",
       "      (body): ResBlock(\n",
       "        (conv1): ConvBlock(\n",
       "          (conv): Conv2d(64, 64, kernel_size=(3, 3), stride=(1, 1), padding=(1, 1), bias=False)\n",
       "          (bn): BatchNorm2d(64, eps=1e-05, momentum=0.1, affine=True, track_running_stats=True)\n",
       "          (activ): ReLU(inplace=True)\n",
       "        )\n",
       "        (conv2): ConvBlock(\n",
       "          (conv): Conv2d(64, 64, kernel_size=(3, 3), stride=(1, 1), padding=(1, 1), bias=False)\n",
       "          (bn): BatchNorm2d(64, eps=1e-05, momentum=0.1, affine=True, track_running_stats=True)\n",
       "        )\n",
       "      )\n",
       "      (activ): ReLU(inplace=True)\n",
       "    )\n",
       "    (unit17): ResUnit(\n",
       "      (body): ResBlock(\n",
       "        (conv1): ConvBlock(\n",
       "          (conv): Conv2d(64, 64, kernel_size=(3, 3), stride=(1, 1), padding=(1, 1), bias=False)\n",
       "          (bn): BatchNorm2d(64, eps=1e-05, momentum=0.1, affine=True, track_running_stats=True)\n",
       "          (activ): ReLU(inplace=True)\n",
       "        )\n",
       "        (conv2): ConvBlock(\n",
       "          (conv): Conv2d(64, 64, kernel_size=(3, 3), stride=(1, 1), padding=(1, 1), bias=False)\n",
       "          (bn): BatchNorm2d(64, eps=1e-05, momentum=0.1, affine=True, track_running_stats=True)\n",
       "        )\n",
       "      )\n",
       "      (activ): ReLU(inplace=True)\n",
       "    )\n",
       "    (unit18): ResUnit(\n",
       "      (body): ResBlock(\n",
       "        (conv1): ConvBlock(\n",
       "          (conv): Conv2d(64, 64, kernel_size=(3, 3), stride=(1, 1), padding=(1, 1), bias=False)\n",
       "          (bn): BatchNorm2d(64, eps=1e-05, momentum=0.1, affine=True, track_running_stats=True)\n",
       "          (activ): ReLU(inplace=True)\n",
       "        )\n",
       "        (conv2): ConvBlock(\n",
       "          (conv): Conv2d(64, 64, kernel_size=(3, 3), stride=(1, 1), padding=(1, 1), bias=False)\n",
       "          (bn): BatchNorm2d(64, eps=1e-05, momentum=0.1, affine=True, track_running_stats=True)\n",
       "        )\n",
       "      )\n",
       "      (activ): ReLU(inplace=True)\n",
       "    )\n",
       "  )\n",
       "  (final_pool): AvgPool2d(kernel_size=8, stride=1, padding=0)\n",
       ")"
      ]
     },
     "execution_count": 252,
     "metadata": {},
     "output_type": "execute_result"
    }
   ],
   "source": [
    "model.features"
   ]
  },
  {
   "cell_type": "code",
   "execution_count": null,
   "metadata": {},
   "outputs": [],
   "source": []
  }
 ],
 "metadata": {
  "kernelspec": {
   "display_name": "Python 3",
   "language": "python",
   "name": "python3"
  },
  "language_info": {
   "codemirror_mode": {
    "name": "ipython",
    "version": 3
   },
   "file_extension": ".py",
   "mimetype": "text/x-python",
   "name": "python",
   "nbconvert_exporter": "python",
   "pygments_lexer": "ipython3",
   "version": "3.8.5"
  }
 },
 "nbformat": 4,
 "nbformat_minor": 4
}
